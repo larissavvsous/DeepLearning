{
  "nbformat": 4,
  "nbformat_minor": 0,
  "metadata": {
    "colab": {
      "provenance": [],
      "include_colab_link": true
    },
    "kernelspec": {
      "name": "python3",
      "display_name": "Python 3"
    },
    "language_info": {
      "name": "python"
    }
  },
  "cells": [
    {
      "cell_type": "markdown",
      "metadata": {
        "id": "view-in-github",
        "colab_type": "text"
      },
      "source": [
        "<a href=\"https://colab.research.google.com/github/larissavvsous/DeepLearning/blob/main/DL_Ext_Dep_AD.ipynb\" target=\"_parent\"><img src=\"https://colab.research.google.com/assets/colab-badge.svg\" alt=\"Open In Colab\"/></a>"
      ]
    },
    {
      "cell_type": "markdown",
      "source": [
        "\n",
        "#  **TL1 - Tarefas de Extração, Depuração e Análise de dados**\n",
        "\n",
        "### **Dupla: Larissa Vitória Vasconcelos Sousa, Ruan Rodrigues Sousa**\n",
        "\n",
        "\n",
        "\n",
        "---\n",
        "\n",
        "\n",
        "\n",
        "#### **Você recebeu 7 conjuntos de dados brutos para análise.**\n",
        "\n",
        "1. Os dados tem informações do total de\n",
        "- Arquivos lidos e escritos em disco local na linha FILE BYTES READ/WRITTEN\n",
        "- Arquivos lidos e escritos em disco HDFS na linha HDFS BYTES READ/WRITTEN\n",
        "\n",
        "2. Cada job tem um formato de job: *job_201412151229_0002*\n",
        "\n",
        "- Quando tem a função `Running` o tempo do job inicia e\n",
        "- Quando tem a função `Job complete` o job finaliza\n",
        "\n",
        "3. O tempo de início e fim de cada tarefa deve ser contabilizado pela subtração entre `\"Job complete\" - \"Running\"`\n",
        "\n",
        "4. Deseja-se saber a\n",
        "- quantidade média de dados lidos e escritos em disco local e HDFS e\n",
        "- o tempo médio de execução de cada teste representado pelos datasets.\n",
        "\n",
        "5. Tarefa\n",
        "- Considere que você precisa depurar os dados\n",
        "- Obter um dataset através de parser e\n",
        "- Identificar se há alguma correlação entre as execuções.\n",
        "\n",
        "\n",
        "#### **Com base nas instruções fornecidas, é necessário extrair as seguintes informações de cada linha do arquivo:**\n",
        "\n",
        "- Tempo de início do job (quando ocorre a função Running).\n",
        "- Tempo de fim do job (quando ocorre a função Job complete).\n",
        "- Identificador do job (no formato job_YYYYMMDDHHMM_XXXX).\n",
        "- Duração de cada job.\n",
        "- Quantidade de dados lidos e escritos em disco local (informações encontradas na linha FILE BYTES READ/WRITTEN).\n",
        "- Quantidade de dados lidos e escritos em disco HDFS (informações encontradas na linha HDFS BYTES READ/WRITTEN).\n",
        "\n",
        "#### **Depois de extrair essas informações, é necessário calcular:**\n",
        "\n",
        "- Tempo de execução de cada job (diferença entre o tempo de fim e o tempo de início).\n",
        "- Quantidade média de dados lidos e escritos em disco local e HDFS.\n",
        "- Tempo médio de execução de cada teste representado pelos datasets."
      ],
      "metadata": {
        "id": "zdGrxMw4uOHB"
      }
    },
    {
      "cell_type": "code",
      "source": [
        "from google.colab import drive\n",
        "drive.mount('/content/drive')"
      ],
      "metadata": {
        "colab": {
          "base_uri": "https://localhost:8080/",
          "height": 0
        },
        "id": "nVbp2k0Z9xne",
        "outputId": "04b62486-7175-45fc-83d0-22ce29186519"
      },
      "execution_count": 13,
      "outputs": [
        {
          "output_type": "stream",
          "name": "stdout",
          "text": [
            "Drive already mounted at /content/drive; to attempt to forcibly remount, call drive.mount(\"/content/drive\", force_remount=True).\n"
          ]
        }
      ]
    },
    {
      "cell_type": "markdown",
      "source": [
        "## Bibliotecas"
      ],
      "metadata": {
        "id": "IXSftzy9l0KI"
      }
    },
    {
      "cell_type": "code",
      "source": [
        "import pandas as pd\n",
        "import re\n",
        "import glob\n",
        "from datetime import datetime\n",
        "import matplotlib.pyplot as plt\n",
        "import seaborn as sns"
      ],
      "metadata": {
        "id": "FsvvDYHk1zJs"
      },
      "execution_count": 14,
      "outputs": []
    },
    {
      "cell_type": "markdown",
      "source": [
        "## Parser"
      ],
      "metadata": {
        "id": "TX-wl0K92RYE"
      }
    },
    {
      "cell_type": "code",
      "source": [
        "diretorio = '/content/drive/MyDrive/DeepLearning1a7' # usando a biblioteca glob, todos os arquivos dessa pasta vão ser percorridos\n",
        "tipo_arquivo = '*.txt'\n",
        "\n",
        "# Expressões para identificar padrões nas linhas\n",
        "regex_inicio_job = re.compile(r'(\\d{2}/\\d{2}/\\d{2} \\d{2}:\\d{2}:\\d{2}).+?Running job: (job_\\d+_\\d+)')\n",
        "regex_fim_job = re.compile(r'(\\d{2}/\\d{2}/\\d{2} \\d{2}:\\d{2}:\\d{2}).+?Job complete: (job_\\d+_\\d+)')\n",
        "regex_bytes = re.compile(r'(FILE|HDFS)_BYTES_(READ|WRITTEN)=(\\d+)')\n",
        "\n",
        "dataset = [] # vai armazenar os dados extraídos de todos os jobs em todos os arquivos\n",
        "\n",
        "for arquivo in glob.glob(f'{diretorio}/{tipo_arquivo}'): # vai obter uma lista de todos os arquivos no diretório\n",
        "    inicio_jobs = []\n",
        "    fim_jobs = []\n",
        "    dados_local_read = None\n",
        "    dados_local_written = None\n",
        "    dados_hdfs_read = None\n",
        "    dados_hdfs_written = None\n",
        "\n",
        "    with open(arquivo, 'r') as f: # processando cada linha do arquivo aberto para conseguir extrair as informações desejadas\n",
        "        for linha in f:\n",
        "            match_inicio = regex_inicio_job.search(linha)\n",
        "            match_fim = regex_fim_job.search(linha)\n",
        "            if match_inicio:\n",
        "                inicio_jobs.append((match_inicio.group(1), match_inicio.group(2)))\n",
        "            elif match_fim:\n",
        "                fim_jobs.append((match_fim.group(1), match_fim.group(2)))\n",
        "            else:\n",
        "                match_bytes = regex_bytes.search(linha)\n",
        "                if match_bytes:\n",
        "                    tipo = match_bytes.group(1)\n",
        "                    acao = match_bytes.group(2).lower()\n",
        "                    valor = int(match_bytes.group(3))\n",
        "                    if tipo == 'FILE':\n",
        "                        if acao == 'read':\n",
        "                            dados_local_read = valor\n",
        "                        elif acao == 'written':\n",
        "                            dados_local_written = valor\n",
        "                    elif tipo == 'HDFS':\n",
        "                        if acao == 'read':\n",
        "                            dados_hdfs_read = valor\n",
        "                        elif acao == 'written':\n",
        "                            dados_hdfs_written = valor\n",
        "\n",
        "        for inicio, id_job in inicio_jobs: # calcular a duração de cada job completo\n",
        "            for fim, id_fim in fim_jobs:\n",
        "                if id_job == id_fim:\n",
        "                    inicio_dt = datetime.strptime(inicio, \"%d/%m/%y %H:%M:%S\")\n",
        "                    fim_dt = datetime.strptime(fim, \"%d/%m/%y %H:%M:%S\")\n",
        "                    duracao_job = (fim_dt - inicio_dt).total_seconds()\n",
        "                    dataset.append({\n",
        "                        'inicio_job': inicio,\n",
        "                        'fim_job': fim,\n",
        "                        'id': id_job,\n",
        "                        'dados_local_read': dados_local_read,\n",
        "                        'dados_local_written': dados_local_written,\n",
        "                        'duracao_job': duracao_job,  # em segundos\n",
        "                        'dados_hdfs_read': dados_hdfs_read,\n",
        "                        'dados_hdfs_written': dados_hdfs_written\n",
        "                    })\n"
      ],
      "metadata": {
        "id": "uunm2KeP5UYR"
      },
      "execution_count": 15,
      "outputs": []
    },
    {
      "cell_type": "markdown",
      "source": [
        "## Convertendo para dataset"
      ],
      "metadata": {
        "id": "g1lqmjp3O49t"
      }
    },
    {
      "cell_type": "code",
      "source": [
        "df = pd.DataFrame(dataset)"
      ],
      "metadata": {
        "id": "DSnWaouSdCwl"
      },
      "execution_count": 16,
      "outputs": []
    },
    {
      "cell_type": "markdown",
      "source": [
        "## Excluindo os caractereres \"job_\" da coluna ID"
      ],
      "metadata": {
        "id": "L8Uyb2GpdFCA"
      }
    },
    {
      "cell_type": "code",
      "source": [
        "df['id'] = df['id'].str.replace('job_', '')"
      ],
      "metadata": {
        "id": "ZOy6qVehdCtN"
      },
      "execution_count": 17,
      "outputs": []
    },
    {
      "cell_type": "markdown",
      "source": [
        "## Consolidando as colunas `'dados_local_read'` e `'dados_local_written'` em uma única coluna `'dados_local'`, e realizando o mesmo procedimento para os dados HDFS, resultando em uma única coluna `'dados_hdfs'`."
      ],
      "metadata": {
        "id": "X42iQmPydP6_"
      }
    },
    {
      "cell_type": "code",
      "source": [
        "df['dados_local'] = df['dados_local_read'] + df['dados_local_written']\n",
        "df['dados_hdfs'] = df['dados_hdfs_read'] + df['dados_hdfs_written']\n",
        "\n",
        "df = df.drop(columns=['dados_local_read', 'dados_local_written', 'dados_hdfs_read', 'dados_hdfs_written'])"
      ],
      "metadata": {
        "id": "wBppHEoYdCqe"
      },
      "execution_count": 18,
      "outputs": []
    },
    {
      "cell_type": "markdown",
      "source": [
        "## Visualizando o dataset final"
      ],
      "metadata": {
        "id": "BT9y0I2MeH50"
      }
    },
    {
      "cell_type": "code",
      "source": [
        "df"
      ],
      "metadata": {
        "colab": {
          "base_uri": "https://localhost:8080/",
          "height": 423
        },
        "id": "CthC7cvhO-48",
        "outputId": "4d5862bb-aa77-4baa-ec99-d39b1f90793e"
      },
      "execution_count": 19,
      "outputs": [
        {
          "output_type": "execute_result",
          "data": {
            "text/plain": [
              "            inicio_job            fim_job                 id  duracao_job  \\\n",
              "0    14/12/15 13:49:45  14/12/15 13:50:43  201412151229_0001         58.0   \n",
              "1    14/12/15 13:50:55  14/12/15 13:51:40  201412151229_0002         45.0   \n",
              "2    14/12/15 13:51:57  14/12/15 13:52:38  201412151229_0003         41.0   \n",
              "3    14/12/15 13:53:50  14/12/15 13:54:44  201412151229_0004         54.0   \n",
              "4    14/12/15 13:55:19  14/12/15 13:56:02  201412151229_0005         43.0   \n",
              "..                 ...                ...                ...          ...   \n",
              "127  14/12/15 23:12:59  14/12/15 23:13:40  201412152138_0026         41.0   \n",
              "128  14/12/15 23:15:21  14/12/15 23:16:42  201412152138_0027         81.0   \n",
              "129  14/12/15 23:18:23  14/12/15 23:19:05  201412152138_0028         42.0   \n",
              "130  14/12/15 23:20:46  14/12/15 23:21:26  201412152138_0029         40.0   \n",
              "131  14/12/15 23:23:07  14/12/15 23:23:51  201412152138_0030         44.0   \n",
              "\n",
              "     dados_local   dados_hdfs  \n",
              "0    20342969584   9450101644  \n",
              "1    20342969584   9450101644  \n",
              "2    20342969584   9450101644  \n",
              "3    20342969584   9450101644  \n",
              "4    20342969584   9450101644  \n",
              "..           ...          ...  \n",
              "127  40670069384  18886862240  \n",
              "128  40670069384  18886862240  \n",
              "129  40670069384  18886862240  \n",
              "130  40670069384  18886862240  \n",
              "131  40670069384  18886862240  \n",
              "\n",
              "[132 rows x 6 columns]"
            ],
            "text/html": [
              "\n",
              "  <div id=\"df-1b718459-167d-4c2c-9e9f-da1f8af8ed10\" class=\"colab-df-container\">\n",
              "    <div>\n",
              "<style scoped>\n",
              "    .dataframe tbody tr th:only-of-type {\n",
              "        vertical-align: middle;\n",
              "    }\n",
              "\n",
              "    .dataframe tbody tr th {\n",
              "        vertical-align: top;\n",
              "    }\n",
              "\n",
              "    .dataframe thead th {\n",
              "        text-align: right;\n",
              "    }\n",
              "</style>\n",
              "<table border=\"1\" class=\"dataframe\">\n",
              "  <thead>\n",
              "    <tr style=\"text-align: right;\">\n",
              "      <th></th>\n",
              "      <th>inicio_job</th>\n",
              "      <th>fim_job</th>\n",
              "      <th>id</th>\n",
              "      <th>duracao_job</th>\n",
              "      <th>dados_local</th>\n",
              "      <th>dados_hdfs</th>\n",
              "    </tr>\n",
              "  </thead>\n",
              "  <tbody>\n",
              "    <tr>\n",
              "      <th>0</th>\n",
              "      <td>14/12/15 13:49:45</td>\n",
              "      <td>14/12/15 13:50:43</td>\n",
              "      <td>201412151229_0001</td>\n",
              "      <td>58.0</td>\n",
              "      <td>20342969584</td>\n",
              "      <td>9450101644</td>\n",
              "    </tr>\n",
              "    <tr>\n",
              "      <th>1</th>\n",
              "      <td>14/12/15 13:50:55</td>\n",
              "      <td>14/12/15 13:51:40</td>\n",
              "      <td>201412151229_0002</td>\n",
              "      <td>45.0</td>\n",
              "      <td>20342969584</td>\n",
              "      <td>9450101644</td>\n",
              "    </tr>\n",
              "    <tr>\n",
              "      <th>2</th>\n",
              "      <td>14/12/15 13:51:57</td>\n",
              "      <td>14/12/15 13:52:38</td>\n",
              "      <td>201412151229_0003</td>\n",
              "      <td>41.0</td>\n",
              "      <td>20342969584</td>\n",
              "      <td>9450101644</td>\n",
              "    </tr>\n",
              "    <tr>\n",
              "      <th>3</th>\n",
              "      <td>14/12/15 13:53:50</td>\n",
              "      <td>14/12/15 13:54:44</td>\n",
              "      <td>201412151229_0004</td>\n",
              "      <td>54.0</td>\n",
              "      <td>20342969584</td>\n",
              "      <td>9450101644</td>\n",
              "    </tr>\n",
              "    <tr>\n",
              "      <th>4</th>\n",
              "      <td>14/12/15 13:55:19</td>\n",
              "      <td>14/12/15 13:56:02</td>\n",
              "      <td>201412151229_0005</td>\n",
              "      <td>43.0</td>\n",
              "      <td>20342969584</td>\n",
              "      <td>9450101644</td>\n",
              "    </tr>\n",
              "    <tr>\n",
              "      <th>...</th>\n",
              "      <td>...</td>\n",
              "      <td>...</td>\n",
              "      <td>...</td>\n",
              "      <td>...</td>\n",
              "      <td>...</td>\n",
              "      <td>...</td>\n",
              "    </tr>\n",
              "    <tr>\n",
              "      <th>127</th>\n",
              "      <td>14/12/15 23:12:59</td>\n",
              "      <td>14/12/15 23:13:40</td>\n",
              "      <td>201412152138_0026</td>\n",
              "      <td>41.0</td>\n",
              "      <td>40670069384</td>\n",
              "      <td>18886862240</td>\n",
              "    </tr>\n",
              "    <tr>\n",
              "      <th>128</th>\n",
              "      <td>14/12/15 23:15:21</td>\n",
              "      <td>14/12/15 23:16:42</td>\n",
              "      <td>201412152138_0027</td>\n",
              "      <td>81.0</td>\n",
              "      <td>40670069384</td>\n",
              "      <td>18886862240</td>\n",
              "    </tr>\n",
              "    <tr>\n",
              "      <th>129</th>\n",
              "      <td>14/12/15 23:18:23</td>\n",
              "      <td>14/12/15 23:19:05</td>\n",
              "      <td>201412152138_0028</td>\n",
              "      <td>42.0</td>\n",
              "      <td>40670069384</td>\n",
              "      <td>18886862240</td>\n",
              "    </tr>\n",
              "    <tr>\n",
              "      <th>130</th>\n",
              "      <td>14/12/15 23:20:46</td>\n",
              "      <td>14/12/15 23:21:26</td>\n",
              "      <td>201412152138_0029</td>\n",
              "      <td>40.0</td>\n",
              "      <td>40670069384</td>\n",
              "      <td>18886862240</td>\n",
              "    </tr>\n",
              "    <tr>\n",
              "      <th>131</th>\n",
              "      <td>14/12/15 23:23:07</td>\n",
              "      <td>14/12/15 23:23:51</td>\n",
              "      <td>201412152138_0030</td>\n",
              "      <td>44.0</td>\n",
              "      <td>40670069384</td>\n",
              "      <td>18886862240</td>\n",
              "    </tr>\n",
              "  </tbody>\n",
              "</table>\n",
              "<p>132 rows × 6 columns</p>\n",
              "</div>\n",
              "    <div class=\"colab-df-buttons\">\n",
              "\n",
              "  <div class=\"colab-df-container\">\n",
              "    <button class=\"colab-df-convert\" onclick=\"convertToInteractive('df-1b718459-167d-4c2c-9e9f-da1f8af8ed10')\"\n",
              "            title=\"Convert this dataframe to an interactive table.\"\n",
              "            style=\"display:none;\">\n",
              "\n",
              "  <svg xmlns=\"http://www.w3.org/2000/svg\" height=\"24px\" viewBox=\"0 -960 960 960\">\n",
              "    <path d=\"M120-120v-720h720v720H120Zm60-500h600v-160H180v160Zm220 220h160v-160H400v160Zm0 220h160v-160H400v160ZM180-400h160v-160H180v160Zm440 0h160v-160H620v160ZM180-180h160v-160H180v160Zm440 0h160v-160H620v160Z\"/>\n",
              "  </svg>\n",
              "    </button>\n",
              "\n",
              "  <style>\n",
              "    .colab-df-container {\n",
              "      display:flex;\n",
              "      gap: 12px;\n",
              "    }\n",
              "\n",
              "    .colab-df-convert {\n",
              "      background-color: #E8F0FE;\n",
              "      border: none;\n",
              "      border-radius: 50%;\n",
              "      cursor: pointer;\n",
              "      display: none;\n",
              "      fill: #1967D2;\n",
              "      height: 32px;\n",
              "      padding: 0 0 0 0;\n",
              "      width: 32px;\n",
              "    }\n",
              "\n",
              "    .colab-df-convert:hover {\n",
              "      background-color: #E2EBFA;\n",
              "      box-shadow: 0px 1px 2px rgba(60, 64, 67, 0.3), 0px 1px 3px 1px rgba(60, 64, 67, 0.15);\n",
              "      fill: #174EA6;\n",
              "    }\n",
              "\n",
              "    .colab-df-buttons div {\n",
              "      margin-bottom: 4px;\n",
              "    }\n",
              "\n",
              "    [theme=dark] .colab-df-convert {\n",
              "      background-color: #3B4455;\n",
              "      fill: #D2E3FC;\n",
              "    }\n",
              "\n",
              "    [theme=dark] .colab-df-convert:hover {\n",
              "      background-color: #434B5C;\n",
              "      box-shadow: 0px 1px 3px 1px rgba(0, 0, 0, 0.15);\n",
              "      filter: drop-shadow(0px 1px 2px rgba(0, 0, 0, 0.3));\n",
              "      fill: #FFFFFF;\n",
              "    }\n",
              "  </style>\n",
              "\n",
              "    <script>\n",
              "      const buttonEl =\n",
              "        document.querySelector('#df-1b718459-167d-4c2c-9e9f-da1f8af8ed10 button.colab-df-convert');\n",
              "      buttonEl.style.display =\n",
              "        google.colab.kernel.accessAllowed ? 'block' : 'none';\n",
              "\n",
              "      async function convertToInteractive(key) {\n",
              "        const element = document.querySelector('#df-1b718459-167d-4c2c-9e9f-da1f8af8ed10');\n",
              "        const dataTable =\n",
              "          await google.colab.kernel.invokeFunction('convertToInteractive',\n",
              "                                                    [key], {});\n",
              "        if (!dataTable) return;\n",
              "\n",
              "        const docLinkHtml = 'Like what you see? Visit the ' +\n",
              "          '<a target=\"_blank\" href=https://colab.research.google.com/notebooks/data_table.ipynb>data table notebook</a>'\n",
              "          + ' to learn more about interactive tables.';\n",
              "        element.innerHTML = '';\n",
              "        dataTable['output_type'] = 'display_data';\n",
              "        await google.colab.output.renderOutput(dataTable, element);\n",
              "        const docLink = document.createElement('div');\n",
              "        docLink.innerHTML = docLinkHtml;\n",
              "        element.appendChild(docLink);\n",
              "      }\n",
              "    </script>\n",
              "  </div>\n",
              "\n",
              "\n",
              "<div id=\"df-be1bbc1b-4c6b-4e19-9039-77ea5f88b1ff\">\n",
              "  <button class=\"colab-df-quickchart\" onclick=\"quickchart('df-be1bbc1b-4c6b-4e19-9039-77ea5f88b1ff')\"\n",
              "            title=\"Suggest charts\"\n",
              "            style=\"display:none;\">\n",
              "\n",
              "<svg xmlns=\"http://www.w3.org/2000/svg\" height=\"24px\"viewBox=\"0 0 24 24\"\n",
              "     width=\"24px\">\n",
              "    <g>\n",
              "        <path d=\"M19 3H5c-1.1 0-2 .9-2 2v14c0 1.1.9 2 2 2h14c1.1 0 2-.9 2-2V5c0-1.1-.9-2-2-2zM9 17H7v-7h2v7zm4 0h-2V7h2v10zm4 0h-2v-4h2v4z\"/>\n",
              "    </g>\n",
              "</svg>\n",
              "  </button>\n",
              "\n",
              "<style>\n",
              "  .colab-df-quickchart {\n",
              "      --bg-color: #E8F0FE;\n",
              "      --fill-color: #1967D2;\n",
              "      --hover-bg-color: #E2EBFA;\n",
              "      --hover-fill-color: #174EA6;\n",
              "      --disabled-fill-color: #AAA;\n",
              "      --disabled-bg-color: #DDD;\n",
              "  }\n",
              "\n",
              "  [theme=dark] .colab-df-quickchart {\n",
              "      --bg-color: #3B4455;\n",
              "      --fill-color: #D2E3FC;\n",
              "      --hover-bg-color: #434B5C;\n",
              "      --hover-fill-color: #FFFFFF;\n",
              "      --disabled-bg-color: #3B4455;\n",
              "      --disabled-fill-color: #666;\n",
              "  }\n",
              "\n",
              "  .colab-df-quickchart {\n",
              "    background-color: var(--bg-color);\n",
              "    border: none;\n",
              "    border-radius: 50%;\n",
              "    cursor: pointer;\n",
              "    display: none;\n",
              "    fill: var(--fill-color);\n",
              "    height: 32px;\n",
              "    padding: 0;\n",
              "    width: 32px;\n",
              "  }\n",
              "\n",
              "  .colab-df-quickchart:hover {\n",
              "    background-color: var(--hover-bg-color);\n",
              "    box-shadow: 0 1px 2px rgba(60, 64, 67, 0.3), 0 1px 3px 1px rgba(60, 64, 67, 0.15);\n",
              "    fill: var(--button-hover-fill-color);\n",
              "  }\n",
              "\n",
              "  .colab-df-quickchart-complete:disabled,\n",
              "  .colab-df-quickchart-complete:disabled:hover {\n",
              "    background-color: var(--disabled-bg-color);\n",
              "    fill: var(--disabled-fill-color);\n",
              "    box-shadow: none;\n",
              "  }\n",
              "\n",
              "  .colab-df-spinner {\n",
              "    border: 2px solid var(--fill-color);\n",
              "    border-color: transparent;\n",
              "    border-bottom-color: var(--fill-color);\n",
              "    animation:\n",
              "      spin 1s steps(1) infinite;\n",
              "  }\n",
              "\n",
              "  @keyframes spin {\n",
              "    0% {\n",
              "      border-color: transparent;\n",
              "      border-bottom-color: var(--fill-color);\n",
              "      border-left-color: var(--fill-color);\n",
              "    }\n",
              "    20% {\n",
              "      border-color: transparent;\n",
              "      border-left-color: var(--fill-color);\n",
              "      border-top-color: var(--fill-color);\n",
              "    }\n",
              "    30% {\n",
              "      border-color: transparent;\n",
              "      border-left-color: var(--fill-color);\n",
              "      border-top-color: var(--fill-color);\n",
              "      border-right-color: var(--fill-color);\n",
              "    }\n",
              "    40% {\n",
              "      border-color: transparent;\n",
              "      border-right-color: var(--fill-color);\n",
              "      border-top-color: var(--fill-color);\n",
              "    }\n",
              "    60% {\n",
              "      border-color: transparent;\n",
              "      border-right-color: var(--fill-color);\n",
              "    }\n",
              "    80% {\n",
              "      border-color: transparent;\n",
              "      border-right-color: var(--fill-color);\n",
              "      border-bottom-color: var(--fill-color);\n",
              "    }\n",
              "    90% {\n",
              "      border-color: transparent;\n",
              "      border-bottom-color: var(--fill-color);\n",
              "    }\n",
              "  }\n",
              "</style>\n",
              "\n",
              "  <script>\n",
              "    async function quickchart(key) {\n",
              "      const quickchartButtonEl =\n",
              "        document.querySelector('#' + key + ' button');\n",
              "      quickchartButtonEl.disabled = true;  // To prevent multiple clicks.\n",
              "      quickchartButtonEl.classList.add('colab-df-spinner');\n",
              "      try {\n",
              "        const charts = await google.colab.kernel.invokeFunction(\n",
              "            'suggestCharts', [key], {});\n",
              "      } catch (error) {\n",
              "        console.error('Error during call to suggestCharts:', error);\n",
              "      }\n",
              "      quickchartButtonEl.classList.remove('colab-df-spinner');\n",
              "      quickchartButtonEl.classList.add('colab-df-quickchart-complete');\n",
              "    }\n",
              "    (() => {\n",
              "      let quickchartButtonEl =\n",
              "        document.querySelector('#df-be1bbc1b-4c6b-4e19-9039-77ea5f88b1ff button');\n",
              "      quickchartButtonEl.style.display =\n",
              "        google.colab.kernel.accessAllowed ? 'block' : 'none';\n",
              "    })();\n",
              "  </script>\n",
              "</div>\n",
              "    </div>\n",
              "  </div>\n"
            ],
            "application/vnd.google.colaboratory.intrinsic+json": {
              "type": "dataframe",
              "variable_name": "df",
              "summary": "{\n  \"name\": \"df\",\n  \"rows\": 132,\n  \"fields\": [\n    {\n      \"column\": \"inicio_job\",\n      \"properties\": {\n        \"dtype\": \"object\",\n        \"num_unique_values\": 132,\n        \"samples\": [\n          \"14/12/16 13:16:39\",\n          \"14/12/15 20:48:03\",\n          \"14/12/15 15:02:24\"\n        ],\n        \"semantic_type\": \"\",\n        \"description\": \"\"\n      }\n    },\n    {\n      \"column\": \"fim_job\",\n      \"properties\": {\n        \"dtype\": \"object\",\n        \"num_unique_values\": 132,\n        \"samples\": [\n          \"14/12/16 13:17:23\",\n          \"14/12/15 20:48:37\",\n          \"14/12/15 15:03:10\"\n        ],\n        \"semantic_type\": \"\",\n        \"description\": \"\"\n      }\n    },\n    {\n      \"column\": \"id\",\n      \"properties\": {\n        \"dtype\": \"string\",\n        \"num_unique_values\": 132,\n        \"samples\": [\n          \"201412161218_0015\",\n          \"201412151824_0012\",\n          \"201412151229_0023\"\n        ],\n        \"semantic_type\": \"\",\n        \"description\": \"\"\n      }\n    },\n    {\n      \"column\": \"duracao_job\",\n      \"properties\": {\n        \"dtype\": \"number\",\n        \"std\": 20.932096687998676,\n        \"min\": 30.0,\n        \"max\": 116.0,\n        \"num_unique_values\": 39,\n        \"samples\": [\n          33.0,\n          52.0,\n          43.0\n        ],\n        \"semantic_type\": \"\",\n        \"description\": \"\"\n      }\n    },\n    {\n      \"column\": \"dados_local\",\n      \"properties\": {\n        \"dtype\": \"number\",\n        \"std\": 17636638292,\n        \"min\": 20342969584,\n        \"max\": 81362862690,\n        \"num_unique_values\": 7,\n        \"samples\": [\n          20342969584,\n          20342969994,\n          20342976144\n        ],\n        \"semantic_type\": \"\",\n        \"description\": \"\"\n      }\n    },\n    {\n      \"column\": \"dados_hdfs\",\n      \"properties\": {\n        \"dtype\": \"number\",\n        \"std\": 8183492873,\n        \"min\": 9450101644,\n        \"max\": 37760376407,\n        \"num_unique_values\": 6,\n        \"samples\": [\n          9450101644,\n          9450101785,\n          18886862240\n        ],\n        \"semantic_type\": \"\",\n        \"description\": \"\"\n      }\n    }\n  ]\n}"
            }
          },
          "metadata": {},
          "execution_count": 19
        }
      ]
    },
    {
      "cell_type": "markdown",
      "source": [
        "#### **Após a depuração dos arquivos, o dataset foi obtido com as seguintes colunas:**\n",
        "\n",
        "- `\"id\"`: identificador do job.\n",
        "- `\"inicio_job\"`: início do job.\n",
        "- `\"fim_job\"`: fim do job.\n",
        "- `\"dados_local\"`: Quantidade de dados lidos e escritos (em bytes) a partir do disco local durante a execução do job.\n",
        "- `\"dados_hdfs\"`: Quantidade de dados lidos e escritos (em bytes) a partir do sistema de arquivos distribuído HDFS (Hadoop Distributed File System) durante a execução do job.\n",
        "- `\"duracao_job\"`: duração de cada job em segundos, subtração entre inicio_job e fim job."
      ],
      "metadata": {
        "id": "UdXQOsPXm7cQ"
      }
    },
    {
      "cell_type": "markdown",
      "source": [
        "## Verificando os tipos de dados"
      ],
      "metadata": {
        "id": "4SpZ31vxeMtO"
      }
    },
    {
      "cell_type": "code",
      "source": [
        "df.dtypes"
      ],
      "metadata": {
        "colab": {
          "base_uri": "https://localhost:8080/",
          "height": 0
        },
        "id": "AXXVlN4IXGIk",
        "outputId": "7df00043-1adb-4e4f-ca77-8d51a199729f"
      },
      "execution_count": 20,
      "outputs": [
        {
          "output_type": "execute_result",
          "data": {
            "text/plain": [
              "inicio_job      object\n",
              "fim_job         object\n",
              "id              object\n",
              "duracao_job    float64\n",
              "dados_local      int64\n",
              "dados_hdfs       int64\n",
              "dtype: object"
            ]
          },
          "metadata": {},
          "execution_count": 20
        }
      ]
    },
    {
      "cell_type": "markdown",
      "source": [
        "## Estatísticas descritivas"
      ],
      "metadata": {
        "id": "xppn544ieTVl"
      }
    },
    {
      "cell_type": "code",
      "source": [
        "df.describe()"
      ],
      "metadata": {
        "colab": {
          "base_uri": "https://localhost:8080/",
          "height": 300
        },
        "id": "pzyHh-7FWa3z",
        "outputId": "530a4cb5-dca0-45f1-867b-317928179250"
      },
      "execution_count": 21,
      "outputs": [
        {
          "output_type": "execute_result",
          "data": {
            "text/plain": [
              "       duracao_job   dados_local    dados_hdfs\n",
              "count   132.000000  1.320000e+02  1.320000e+02\n",
              "mean     52.000000  3.174168e+10  1.474041e+10\n",
              "std      20.932097  1.763664e+10  8.183493e+09\n",
              "min      30.000000  2.034297e+10  9.450102e+09\n",
              "25%      41.000000  2.034297e+10  9.450102e+09\n",
              "50%      44.000000  2.034298e+10  9.450102e+09\n",
              "75%      58.000000  4.067007e+10  1.888686e+10\n",
              "max     116.000000  8.136286e+10  3.776038e+10"
            ],
            "text/html": [
              "\n",
              "  <div id=\"df-4d5ec01f-31fc-41ab-a3ca-b31506121aba\" class=\"colab-df-container\">\n",
              "    <div>\n",
              "<style scoped>\n",
              "    .dataframe tbody tr th:only-of-type {\n",
              "        vertical-align: middle;\n",
              "    }\n",
              "\n",
              "    .dataframe tbody tr th {\n",
              "        vertical-align: top;\n",
              "    }\n",
              "\n",
              "    .dataframe thead th {\n",
              "        text-align: right;\n",
              "    }\n",
              "</style>\n",
              "<table border=\"1\" class=\"dataframe\">\n",
              "  <thead>\n",
              "    <tr style=\"text-align: right;\">\n",
              "      <th></th>\n",
              "      <th>duracao_job</th>\n",
              "      <th>dados_local</th>\n",
              "      <th>dados_hdfs</th>\n",
              "    </tr>\n",
              "  </thead>\n",
              "  <tbody>\n",
              "    <tr>\n",
              "      <th>count</th>\n",
              "      <td>132.000000</td>\n",
              "      <td>1.320000e+02</td>\n",
              "      <td>1.320000e+02</td>\n",
              "    </tr>\n",
              "    <tr>\n",
              "      <th>mean</th>\n",
              "      <td>52.000000</td>\n",
              "      <td>3.174168e+10</td>\n",
              "      <td>1.474041e+10</td>\n",
              "    </tr>\n",
              "    <tr>\n",
              "      <th>std</th>\n",
              "      <td>20.932097</td>\n",
              "      <td>1.763664e+10</td>\n",
              "      <td>8.183493e+09</td>\n",
              "    </tr>\n",
              "    <tr>\n",
              "      <th>min</th>\n",
              "      <td>30.000000</td>\n",
              "      <td>2.034297e+10</td>\n",
              "      <td>9.450102e+09</td>\n",
              "    </tr>\n",
              "    <tr>\n",
              "      <th>25%</th>\n",
              "      <td>41.000000</td>\n",
              "      <td>2.034297e+10</td>\n",
              "      <td>9.450102e+09</td>\n",
              "    </tr>\n",
              "    <tr>\n",
              "      <th>50%</th>\n",
              "      <td>44.000000</td>\n",
              "      <td>2.034298e+10</td>\n",
              "      <td>9.450102e+09</td>\n",
              "    </tr>\n",
              "    <tr>\n",
              "      <th>75%</th>\n",
              "      <td>58.000000</td>\n",
              "      <td>4.067007e+10</td>\n",
              "      <td>1.888686e+10</td>\n",
              "    </tr>\n",
              "    <tr>\n",
              "      <th>max</th>\n",
              "      <td>116.000000</td>\n",
              "      <td>8.136286e+10</td>\n",
              "      <td>3.776038e+10</td>\n",
              "    </tr>\n",
              "  </tbody>\n",
              "</table>\n",
              "</div>\n",
              "    <div class=\"colab-df-buttons\">\n",
              "\n",
              "  <div class=\"colab-df-container\">\n",
              "    <button class=\"colab-df-convert\" onclick=\"convertToInteractive('df-4d5ec01f-31fc-41ab-a3ca-b31506121aba')\"\n",
              "            title=\"Convert this dataframe to an interactive table.\"\n",
              "            style=\"display:none;\">\n",
              "\n",
              "  <svg xmlns=\"http://www.w3.org/2000/svg\" height=\"24px\" viewBox=\"0 -960 960 960\">\n",
              "    <path d=\"M120-120v-720h720v720H120Zm60-500h600v-160H180v160Zm220 220h160v-160H400v160Zm0 220h160v-160H400v160ZM180-400h160v-160H180v160Zm440 0h160v-160H620v160ZM180-180h160v-160H180v160Zm440 0h160v-160H620v160Z\"/>\n",
              "  </svg>\n",
              "    </button>\n",
              "\n",
              "  <style>\n",
              "    .colab-df-container {\n",
              "      display:flex;\n",
              "      gap: 12px;\n",
              "    }\n",
              "\n",
              "    .colab-df-convert {\n",
              "      background-color: #E8F0FE;\n",
              "      border: none;\n",
              "      border-radius: 50%;\n",
              "      cursor: pointer;\n",
              "      display: none;\n",
              "      fill: #1967D2;\n",
              "      height: 32px;\n",
              "      padding: 0 0 0 0;\n",
              "      width: 32px;\n",
              "    }\n",
              "\n",
              "    .colab-df-convert:hover {\n",
              "      background-color: #E2EBFA;\n",
              "      box-shadow: 0px 1px 2px rgba(60, 64, 67, 0.3), 0px 1px 3px 1px rgba(60, 64, 67, 0.15);\n",
              "      fill: #174EA6;\n",
              "    }\n",
              "\n",
              "    .colab-df-buttons div {\n",
              "      margin-bottom: 4px;\n",
              "    }\n",
              "\n",
              "    [theme=dark] .colab-df-convert {\n",
              "      background-color: #3B4455;\n",
              "      fill: #D2E3FC;\n",
              "    }\n",
              "\n",
              "    [theme=dark] .colab-df-convert:hover {\n",
              "      background-color: #434B5C;\n",
              "      box-shadow: 0px 1px 3px 1px rgba(0, 0, 0, 0.15);\n",
              "      filter: drop-shadow(0px 1px 2px rgba(0, 0, 0, 0.3));\n",
              "      fill: #FFFFFF;\n",
              "    }\n",
              "  </style>\n",
              "\n",
              "    <script>\n",
              "      const buttonEl =\n",
              "        document.querySelector('#df-4d5ec01f-31fc-41ab-a3ca-b31506121aba button.colab-df-convert');\n",
              "      buttonEl.style.display =\n",
              "        google.colab.kernel.accessAllowed ? 'block' : 'none';\n",
              "\n",
              "      async function convertToInteractive(key) {\n",
              "        const element = document.querySelector('#df-4d5ec01f-31fc-41ab-a3ca-b31506121aba');\n",
              "        const dataTable =\n",
              "          await google.colab.kernel.invokeFunction('convertToInteractive',\n",
              "                                                    [key], {});\n",
              "        if (!dataTable) return;\n",
              "\n",
              "        const docLinkHtml = 'Like what you see? Visit the ' +\n",
              "          '<a target=\"_blank\" href=https://colab.research.google.com/notebooks/data_table.ipynb>data table notebook</a>'\n",
              "          + ' to learn more about interactive tables.';\n",
              "        element.innerHTML = '';\n",
              "        dataTable['output_type'] = 'display_data';\n",
              "        await google.colab.output.renderOutput(dataTable, element);\n",
              "        const docLink = document.createElement('div');\n",
              "        docLink.innerHTML = docLinkHtml;\n",
              "        element.appendChild(docLink);\n",
              "      }\n",
              "    </script>\n",
              "  </div>\n",
              "\n",
              "\n",
              "<div id=\"df-59d2eae3-0ae4-453a-8deb-af4c1c6a8389\">\n",
              "  <button class=\"colab-df-quickchart\" onclick=\"quickchart('df-59d2eae3-0ae4-453a-8deb-af4c1c6a8389')\"\n",
              "            title=\"Suggest charts\"\n",
              "            style=\"display:none;\">\n",
              "\n",
              "<svg xmlns=\"http://www.w3.org/2000/svg\" height=\"24px\"viewBox=\"0 0 24 24\"\n",
              "     width=\"24px\">\n",
              "    <g>\n",
              "        <path d=\"M19 3H5c-1.1 0-2 .9-2 2v14c0 1.1.9 2 2 2h14c1.1 0 2-.9 2-2V5c0-1.1-.9-2-2-2zM9 17H7v-7h2v7zm4 0h-2V7h2v10zm4 0h-2v-4h2v4z\"/>\n",
              "    </g>\n",
              "</svg>\n",
              "  </button>\n",
              "\n",
              "<style>\n",
              "  .colab-df-quickchart {\n",
              "      --bg-color: #E8F0FE;\n",
              "      --fill-color: #1967D2;\n",
              "      --hover-bg-color: #E2EBFA;\n",
              "      --hover-fill-color: #174EA6;\n",
              "      --disabled-fill-color: #AAA;\n",
              "      --disabled-bg-color: #DDD;\n",
              "  }\n",
              "\n",
              "  [theme=dark] .colab-df-quickchart {\n",
              "      --bg-color: #3B4455;\n",
              "      --fill-color: #D2E3FC;\n",
              "      --hover-bg-color: #434B5C;\n",
              "      --hover-fill-color: #FFFFFF;\n",
              "      --disabled-bg-color: #3B4455;\n",
              "      --disabled-fill-color: #666;\n",
              "  }\n",
              "\n",
              "  .colab-df-quickchart {\n",
              "    background-color: var(--bg-color);\n",
              "    border: none;\n",
              "    border-radius: 50%;\n",
              "    cursor: pointer;\n",
              "    display: none;\n",
              "    fill: var(--fill-color);\n",
              "    height: 32px;\n",
              "    padding: 0;\n",
              "    width: 32px;\n",
              "  }\n",
              "\n",
              "  .colab-df-quickchart:hover {\n",
              "    background-color: var(--hover-bg-color);\n",
              "    box-shadow: 0 1px 2px rgba(60, 64, 67, 0.3), 0 1px 3px 1px rgba(60, 64, 67, 0.15);\n",
              "    fill: var(--button-hover-fill-color);\n",
              "  }\n",
              "\n",
              "  .colab-df-quickchart-complete:disabled,\n",
              "  .colab-df-quickchart-complete:disabled:hover {\n",
              "    background-color: var(--disabled-bg-color);\n",
              "    fill: var(--disabled-fill-color);\n",
              "    box-shadow: none;\n",
              "  }\n",
              "\n",
              "  .colab-df-spinner {\n",
              "    border: 2px solid var(--fill-color);\n",
              "    border-color: transparent;\n",
              "    border-bottom-color: var(--fill-color);\n",
              "    animation:\n",
              "      spin 1s steps(1) infinite;\n",
              "  }\n",
              "\n",
              "  @keyframes spin {\n",
              "    0% {\n",
              "      border-color: transparent;\n",
              "      border-bottom-color: var(--fill-color);\n",
              "      border-left-color: var(--fill-color);\n",
              "    }\n",
              "    20% {\n",
              "      border-color: transparent;\n",
              "      border-left-color: var(--fill-color);\n",
              "      border-top-color: var(--fill-color);\n",
              "    }\n",
              "    30% {\n",
              "      border-color: transparent;\n",
              "      border-left-color: var(--fill-color);\n",
              "      border-top-color: var(--fill-color);\n",
              "      border-right-color: var(--fill-color);\n",
              "    }\n",
              "    40% {\n",
              "      border-color: transparent;\n",
              "      border-right-color: var(--fill-color);\n",
              "      border-top-color: var(--fill-color);\n",
              "    }\n",
              "    60% {\n",
              "      border-color: transparent;\n",
              "      border-right-color: var(--fill-color);\n",
              "    }\n",
              "    80% {\n",
              "      border-color: transparent;\n",
              "      border-right-color: var(--fill-color);\n",
              "      border-bottom-color: var(--fill-color);\n",
              "    }\n",
              "    90% {\n",
              "      border-color: transparent;\n",
              "      border-bottom-color: var(--fill-color);\n",
              "    }\n",
              "  }\n",
              "</style>\n",
              "\n",
              "  <script>\n",
              "    async function quickchart(key) {\n",
              "      const quickchartButtonEl =\n",
              "        document.querySelector('#' + key + ' button');\n",
              "      quickchartButtonEl.disabled = true;  // To prevent multiple clicks.\n",
              "      quickchartButtonEl.classList.add('colab-df-spinner');\n",
              "      try {\n",
              "        const charts = await google.colab.kernel.invokeFunction(\n",
              "            'suggestCharts', [key], {});\n",
              "      } catch (error) {\n",
              "        console.error('Error during call to suggestCharts:', error);\n",
              "      }\n",
              "      quickchartButtonEl.classList.remove('colab-df-spinner');\n",
              "      quickchartButtonEl.classList.add('colab-df-quickchart-complete');\n",
              "    }\n",
              "    (() => {\n",
              "      let quickchartButtonEl =\n",
              "        document.querySelector('#df-59d2eae3-0ae4-453a-8deb-af4c1c6a8389 button');\n",
              "      quickchartButtonEl.style.display =\n",
              "        google.colab.kernel.accessAllowed ? 'block' : 'none';\n",
              "    })();\n",
              "  </script>\n",
              "</div>\n",
              "    </div>\n",
              "  </div>\n"
            ],
            "application/vnd.google.colaboratory.intrinsic+json": {
              "type": "dataframe",
              "summary": "{\n  \"name\": \"df\",\n  \"rows\": 8,\n  \"fields\": [\n    {\n      \"column\": \"duracao_job\",\n      \"properties\": {\n        \"dtype\": \"number\",\n        \"std\": 40.36801802422736,\n        \"min\": 20.932096687998676,\n        \"max\": 132.0,\n        \"num_unique_values\": 8,\n        \"samples\": [\n          52.0,\n          44.0,\n          132.0\n        ],\n        \"semantic_type\": \"\",\n        \"description\": \"\"\n      }\n    },\n    {\n      \"column\": \"dados_local\",\n      \"properties\": {\n        \"dtype\": \"number\",\n        \"std\": 24143946004.07096,\n        \"min\": 132.0,\n        \"max\": 81362862690.0,\n        \"num_unique_values\": 8,\n        \"samples\": [\n          31741681800.984848,\n          20342976144.0,\n          132.0\n        ],\n        \"semantic_type\": \"\",\n        \"description\": \"\"\n      }\n    },\n    {\n      \"column\": \"dados_hdfs\",\n      \"properties\": {\n        \"dtype\": \"number\",\n        \"std\": 11204860256.292019,\n        \"min\": 132.0,\n        \"max\": 37760376407.0,\n        \"num_unique_values\": 7,\n        \"samples\": [\n          132.0,\n          14740406341.598484,\n          18886862240.0\n        ],\n        \"semantic_type\": \"\",\n        \"description\": \"\"\n      }\n    }\n  ]\n}"
            }
          },
          "metadata": {},
          "execution_count": 21
        }
      ]
    },
    {
      "cell_type": "markdown",
      "source": [
        "## Duração total"
      ],
      "metadata": {
        "id": "oMayIwFHeg64"
      }
    },
    {
      "cell_type": "code",
      "source": [
        "total_seg = df['duracao_job'].count()\n",
        "total_seg = total_seg /60\n",
        "print(\"O tempo total da execução foi de 132.0 segundos, ou seja,\", total_seg, 'minutos.')"
      ],
      "metadata": {
        "colab": {
          "base_uri": "https://localhost:8080/",
          "height": 0
        },
        "id": "wXrekjEOX_fT",
        "outputId": "ac6d9b4e-4d21-416d-bf73-44257189219a"
      },
      "execution_count": 22,
      "outputs": [
        {
          "output_type": "stream",
          "name": "stdout",
          "text": [
            "O tempo total da execução foi de 132.0 segundos, ou seja, 2.2 minutos.\n"
          ]
        }
      ]
    },
    {
      "cell_type": "markdown",
      "source": [
        "## Calculando as médias"
      ],
      "metadata": {
        "id": "WvX4Sn6mPNgX"
      }
    },
    {
      "cell_type": "code",
      "source": [
        "media_dados_local = df['dados_local'].mean()\n",
        "print(\"Média de dados lidos e escritos em disco local:\", media_dados_local)\n",
        "\n",
        "media_dados_hdfs = df['dados_hdfs'].mean()\n",
        "print(\"\\nMédia de dados lidos e escritos em disco HDFS:\", media_dados_hdfs)\n",
        "\n",
        "media_duracao_job = df['duracao_job'].mean()\n",
        "print(\"\\nMédia de duração dos jobs:\", media_duracao_job, \"segundos\")"
      ],
      "metadata": {
        "colab": {
          "base_uri": "https://localhost:8080/",
          "height": 0
        },
        "id": "GKqtA-ZytA7L",
        "outputId": "dd472874-38c7-4ab2-e6d6-dfd71bcc06fa"
      },
      "execution_count": 23,
      "outputs": [
        {
          "output_type": "stream",
          "name": "stdout",
          "text": [
            "Média de dados lidos e escritos em disco local: 31741681800.984848\n",
            "\n",
            "Média de dados lidos e escritos em disco HDFS: 14740406341.598484\n",
            "\n",
            "Média de duração dos jobs: 52.0 segundos\n"
          ]
        }
      ]
    },
    {
      "cell_type": "markdown",
      "source": [
        "## Matriz de correlação"
      ],
      "metadata": {
        "id": "bvurLhWiPu3j"
      }
    },
    {
      "cell_type": "code",
      "source": [
        "correlacao = df.corr()\n",
        "\n",
        "plt.figure(figsize=(10, 8))\n",
        "sns.heatmap(correlacao, annot=True, cmap='coolwarm', fmt=\".2f\", square=True)\n",
        "plt.title('Matriz de Correlação')\n",
        "plt.show()"
      ],
      "metadata": {
        "colab": {
          "base_uri": "https://localhost:8080/",
          "height": 755
        },
        "id": "jGNw4o49Py4K",
        "outputId": "d8dacf8f-9669-4032-b399-b4bdea300516"
      },
      "execution_count": 24,
      "outputs": [
        {
          "output_type": "stream",
          "name": "stderr",
          "text": [
            "<ipython-input-24-32f8446cdbd0>:1: FutureWarning: The default value of numeric_only in DataFrame.corr is deprecated. In a future version, it will default to False. Select only valid columns or specify the value of numeric_only to silence this warning.\n",
            "  correlacao = df.corr()\n"
          ]
        },
        {
          "output_type": "display_data",
          "data": {
            "text/plain": [
              "<Figure size 1000x800 with 2 Axes>"
            ],
            "image/png": "[encoded data removed]"
          },
          "metadata": {}
        }
      ]
    },
    {
      "cell_type": "markdown",
      "source": [
        "## Conclusão"
      ],
      "metadata": {
        "id": "lfT3POXJ2Gs9"
      }
    },
    {
      "cell_type": "markdown",
      "source": [
        "#### Com base nessa análise, podemos observar que a média de dados lidos e escritos no disco local é muito maior do que a média de dados manipulados no disco HDFS. Além disso, a média da duração dos jobs é de aproximadamente 52 segundos. Ao analisar a matriz de correlação entre a duração dos jobs e o volume de dados lidos e escritos, observa-se uma forte correlação positiva entre elas, tanto para os dados locais quanto para os dados no HDFS. Isso mostra que, à medida que a quantidade de dados aumenta, a duração dos jobs tende a aumentar também."
      ],
      "metadata": {
        "id": "2oIVKhlSZF_J"
      }
    }
  ]
}